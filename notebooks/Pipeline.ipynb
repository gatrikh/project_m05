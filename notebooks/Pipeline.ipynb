{
 "cells": [
  {
   "cell_type": "markdown",
   "source": [
    "<h1>Pipeline</h1>"
   ],
   "metadata": {}
  },
  {
   "cell_type": "code",
   "execution_count": 1,
   "source": [
    "import numpy as np\n",
    "import pandas as pd\n",
    "\n",
    "from importlib import reload\n",
    "\n",
    "%matplotlib inline\n",
    "%load_ext autotime"
   ],
   "outputs": [
    {
     "output_type": "stream",
     "name": "stdout",
     "text": [
      "time: 182 µs (started: 2021-09-08 00:34:31 +02:00)\n"
     ]
    }
   ],
   "metadata": {}
  },
  {
   "cell_type": "code",
   "execution_count": 2,
   "source": [
    "from src.data import data as data\n",
    "from src.preprocessing import preprocessing as preprocess\n",
    "from src.models import model as model\n",
    "from src.visualization import visualize as vis"
   ],
   "outputs": [
    {
     "output_type": "stream",
     "name": "stdout",
     "text": [
      "time: 678 ms (started: 2021-09-08 00:34:31 +02:00)\n"
     ]
    }
   ],
   "metadata": {}
  },
  {
   "cell_type": "code",
   "execution_count": 12,
   "source": [
    "reload(data)\n",
    "\n",
    "data_path = \"../data/kddcup.data.gz\"\n",
    "df = data.load_data(data_path)"
   ],
   "outputs": [
    {
     "output_type": "stream",
     "name": "stdout",
     "text": [
      "time: 13.1 s (started: 2021-09-08 00:55:32 +02:00)\n"
     ]
    }
   ],
   "metadata": {}
  },
  {
   "cell_type": "code",
   "execution_count": 13,
   "source": [
    "reload(preprocess)\n",
    "\n",
    "df = preprocess.features_encoder(df)\n",
    "df = preprocess.normalize(df)\n",
    "vis.dsp(df[\"label\"].value_counts())"
   ],
   "outputs": [
    {
     "output_type": "display_data",
     "data": {
      "text/plain": [
       "18    2807886\n",
       "9     1072017\n",
       "11     972781\n",
       "17      15892\n",
       "5       12481\n",
       "       ...   \n",
       "2           8\n",
       "8           7\n",
       "13          4\n",
       "12          3\n",
       "19          2\n",
       "Name: label, Length: 23, dtype: int64"
      ]
     },
     "metadata": {}
    },
    {
     "output_type": "stream",
     "name": "stdout",
     "text": [
      "time: 15 s (started: 2021-09-08 00:55:59 +02:00)\n"
     ]
    }
   ],
   "metadata": {}
  },
  {
   "cell_type": "code",
   "execution_count": 14,
   "source": [
    "train_df, val_df, test_df = preprocess.split_data(df)"
   ],
   "outputs": [
    {
     "output_type": "stream",
     "name": "stdout",
     "text": [
      "time: 17.3 s (started: 2021-09-08 00:56:24 +02:00)\n"
     ]
    }
   ],
   "metadata": {}
  },
  {
   "cell_type": "code",
   "execution_count": 15,
   "source": [
    "reload(model)\n",
    "reload(vis)\n",
    "\n",
    "parameters = {\n",
    "    \"n_estimators\": [100, 150, 200], # Number of trees in the forest.\n",
    "    \"criterion\": [\"gini\", \"entropy\"], # The function to measure the quality of a split.\n",
    "    \"max_depth\": [None], # The maximum depth of the tree.\n",
    "    \"min_samples_split\": [2], # The minimum number of samples required to split an internal node.\n",
    "    \"max_features\": [\"auto\", None] # The number of features to consider when looking for the best split. \n",
    "}\n",
    "\n",
    "# TODO\n",
    "parameters = {\n",
    "    \"n_estimators\": [100], # Number of trees in the forest.\n",
    "    \"criterion\": [\"gini\"], # The function to measure the quality of a split.\n",
    "    \"max_depth\": [None], # The maximum depth of the tree.\n",
    "    \"min_samples_split\": [2], # The minimum number of samples required to split an internal node.\n",
    "    \"max_features\": [\"auto\"] # The number of features to consider when looking for the best split. \n",
    "}\n",
    "\n",
    "clf = model.train_model(train_df, val_df, parameters)"
   ],
   "outputs": [
    {
     "output_type": "stream",
     "name": "stderr",
     "text": [
      "100%|██████████| 1/1 [01:04<00:00, 64.94s/it]\n"
     ]
    },
    {
     "output_type": "stream",
     "name": "stdout",
     "text": [
      "time: 2min 36s (started: 2021-09-08 00:57:11 +02:00)\n"
     ]
    }
   ],
   "metadata": {}
  },
  {
   "cell_type": "code",
   "execution_count": 16,
   "source": [
    "reload(vis)\n",
    "\n",
    "x_test, y_test = model.get_x_y_from_df(test_df)\n",
    "pred = clf.predict(x_test)\n",
    "acc, _, _ = vis.accuracy(y_test, pred, True)\n",
    "print(acc)"
   ],
   "outputs": [
    {
     "output_type": "stream",
     "name": "stdout",
     "text": [
      "Correct: 979638\n",
      "Incorrect: 57\n",
      "0.9999418186272259\n",
      "time: 7.02 s (started: 2021-09-08 01:00:35 +02:00)\n"
     ]
    }
   ],
   "metadata": {}
  },
  {
   "cell_type": "code",
   "execution_count": null,
   "source": [],
   "outputs": [],
   "metadata": {}
  }
 ],
 "metadata": {
  "interpreter": {
   "hash": "8e78fa2f22faf121b949adbe0df6324d13954c705daac14fb9ebebb6d9fbcb40"
  },
  "kernelspec": {
   "name": "python3",
   "display_name": "Python 3.8.2 64-bit ('xenv': conda)"
  },
  "language_info": {
   "codemirror_mode": {
    "name": "ipython",
    "version": 3
   },
   "file_extension": ".py",
   "mimetype": "text/x-python",
   "name": "python",
   "nbconvert_exporter": "python",
   "pygments_lexer": "ipython3",
   "version": "3.8.2"
  }
 },
 "nbformat": 4,
 "nbformat_minor": 5
}