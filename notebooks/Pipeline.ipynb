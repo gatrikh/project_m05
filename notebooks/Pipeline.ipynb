{
 "cells": [
  {
   "cell_type": "markdown",
   "source": [
    "<h1>Pipeline</h1>"
   ],
   "metadata": {}
  },
  {
   "cell_type": "code",
   "execution_count": 13,
   "source": [
    "import numpy as np\n",
    "import pandas as pd\n",
    "\n",
    "from importlib import reload\n",
    "\n",
    "%matplotlib inline\n",
    "%load_ext autotime"
   ],
   "outputs": [
    {
     "output_type": "stream",
     "name": "stdout",
     "text": [
      "The autotime extension is already loaded. To reload it, use:\n",
      "  %reload_ext autotime\n",
      "time: 1.52 ms (started: 2021-09-07 10:30:13 +02:00)\n"
     ]
    }
   ],
   "metadata": {}
  },
  {
   "cell_type": "code",
   "execution_count": 25,
   "source": [
    "from src.data import data as data\n",
    "from src.preprocessing import preprocessing as preprocess\n",
    "from src.models import model as model\n",
    "from src.visualization import visualize as vis"
   ],
   "outputs": [
    {
     "output_type": "stream",
     "name": "stdout",
     "text": [
      "time: 406 µs (started: 2021-09-07 10:39:39 +02:00)\n"
     ]
    }
   ],
   "metadata": {}
  },
  {
   "cell_type": "code",
   "execution_count": 14,
   "source": [
    "reload(data)\n",
    "\n",
    "data_path = \"../data/kddcup.data.gz\"\n",
    "df = data.load_data(data_path)"
   ],
   "outputs": [
    {
     "output_type": "stream",
     "name": "stdout",
     "text": [
      "time: 13.5 s (started: 2021-09-07 10:30:18 +02:00)\n"
     ]
    }
   ],
   "metadata": {}
  },
  {
   "cell_type": "code",
   "execution_count": 19,
   "source": [
    "reload(preprocess)\n",
    "\n",
    "df = preprocess.features_encoder(df)"
   ],
   "outputs": [
    {
     "output_type": "stream",
     "name": "stdout",
     "text": [
      "time: 4.53 s (started: 2021-09-07 10:34:08 +02:00)\n"
     ]
    }
   ],
   "metadata": {}
  },
  {
   "cell_type": "code",
   "execution_count": 28,
   "source": [
    "reload(vis)\n",
    "\n",
    "print(vis.memory(df), \"megabytes\")"
   ],
   "outputs": [
    {
     "output_type": "stream",
     "name": "stdout",
     "text": [
      "1508.72 megabytes\n",
      "time: 2.41 ms (started: 2021-09-07 10:40:52 +02:00)\n"
     ]
    }
   ],
   "metadata": {}
  },
  {
   "cell_type": "code",
   "execution_count": 32,
   "source": [
    "from sklearn.model_selection import train_test_split\n",
    "reload(model)\n",
    "\n",
    "train, test = train_test_split(df, test_size=0.3, random_state=0)\n",
    "clf = model.train_model(train)"
   ],
   "outputs": [
    {
     "output_type": "stream",
     "name": "stdout",
     "text": [
      "time: 3.28 s (started: 2021-09-07 10:51:36 +02:00)\n"
     ]
    }
   ],
   "metadata": {}
  },
  {
   "cell_type": "code",
   "execution_count": 36,
   "source": [
    "reload(vis)\n",
    "\n",
    "x_test = test.drop([\"label\"], axis=\"columns\")\n",
    "y_test = test[\"label\"]\n",
    "pred = clf.predict(x_test)\n",
    "\n",
    "print(vis.accuracy(y_test, pred, True))"
   ],
   "outputs": [
    {
     "output_type": "stream",
     "name": "stdout",
     "text": [
      "Correct: 1469465\n",
      "Incorrect: 65\n",
      "0.9999557681707757\n",
      "time: 10.9 s (started: 2021-09-07 10:56:39 +02:00)\n"
     ]
    }
   ],
   "metadata": {}
  },
  {
   "cell_type": "code",
   "execution_count": null,
   "source": [],
   "outputs": [],
   "metadata": {}
  }
 ],
 "metadata": {
  "interpreter": {
   "hash": "8e78fa2f22faf121b949adbe0df6324d13954c705daac14fb9ebebb6d9fbcb40"
  },
  "kernelspec": {
   "name": "python3",
   "display_name": "Python 3.8.2 64-bit ('xenv': conda)"
  },
  "language_info": {
   "codemirror_mode": {
    "name": "ipython",
    "version": 3
   },
   "file_extension": ".py",
   "mimetype": "text/x-python",
   "name": "python",
   "nbconvert_exporter": "python",
   "pygments_lexer": "ipython3",
   "version": "3.8.2"
  }
 },
 "nbformat": 4,
 "nbformat_minor": 5
}