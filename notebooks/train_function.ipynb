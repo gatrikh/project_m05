{
 "cells": [
  {
   "cell_type": "markdown",
   "source": [
    "<h1>Pipeline</h1>"
   ],
   "metadata": {}
  },
  {
   "cell_type": "code",
   "execution_count": 4,
   "source": [
    "import numpy as np\n",
    "import pandas as pd\n",
    "\n",
    "from importlib import reload\n",
    "\n",
    "%matplotlib inline\n",
    "%load_ext autotime"
   ],
   "outputs": [
    {
     "output_type": "stream",
     "name": "stdout",
     "text": [
      "time: 161 µs (started: 2021-09-07 17:46:21 +02:00)\n"
     ]
    }
   ],
   "metadata": {}
  },
  {
   "cell_type": "code",
   "execution_count": 5,
   "source": [
    "from src.data import data as data\n",
    "from src.preprocessing import preprocessing as preprocess\n",
    "from src.models import model as model\n",
    "from src.visualization import visualize as vis"
   ],
   "outputs": [
    {
     "output_type": "stream",
     "name": "stdout",
     "text": [
      "time: 389 µs (started: 2021-09-07 17:46:22 +02:00)\n"
     ]
    }
   ],
   "metadata": {}
  },
  {
   "cell_type": "code",
   "execution_count": 6,
   "source": [
    "reload(data)\n",
    "\n",
    "data_path = \"../data/kddcup.data.gz\"\n",
    "df = data.load_data(data_path)\n",
    "\n",
    "print(df.shape)"
   ],
   "outputs": [
    {
     "output_type": "stream",
     "name": "stdout",
     "text": [
      "(4898431, 42)\n",
      "time: 15.5 s (started: 2021-09-07 17:46:23 +02:00)\n"
     ]
    }
   ],
   "metadata": {}
  },
  {
   "cell_type": "code",
   "execution_count": 4,
   "source": [
    "reload(preprocess)\n",
    "\n",
    "df = preprocess.features_encoder(df)"
   ],
   "outputs": [
    {
     "output_type": "stream",
     "name": "stdout",
     "text": [
      "time: 4.55 s (started: 2021-09-07 12:15:24 +02:00)\n"
     ]
    }
   ],
   "metadata": {}
  },
  {
   "cell_type": "code",
   "execution_count": 5,
   "source": [
    "reload(vis)\n",
    "\n",
    "print(vis.memory(df), \"megabytes\")"
   ],
   "outputs": [
    {
     "output_type": "stream",
     "name": "stdout",
     "text": [
      "1508.72 megabytes\n",
      "time: 11.4 ms (started: 2021-09-07 12:15:31 +02:00)\n"
     ]
    }
   ],
   "metadata": {}
  },
  {
   "cell_type": "code",
   "execution_count": 32,
   "source": [
    "from sklearn.model_selection import train_test_split\n",
    "reload(model)\n",
    "reload(vis)\n",
    "\n",
    "train, test = train_test_split(df, test_size=0.9, random_state=0)\n",
    "train, test = train_test_split(train, test_size=0.3, random_state=0)\n",
    "parameters = {\n",
    "    \"n_estimators\": [100, 150, 200], # Number of trees in the forest.\n",
    "    \"criterion\": [\"gini\", \"entropy\"], # The function to measure the quality of a split.\n",
    "    \"max_depth\": [None], # The maximum depth of the tree.\n",
    "    \"min_samples_split\": [2], # The minimum number of samples required to split an internal node.\n",
    "    \"max_features\": [\"auto\", None] # The number of features to consider when looking for the best split. \n",
    "}\n",
    "\n",
    "clf = model.train_model(train, test, parameters)"
   ],
   "outputs": [
    {
     "output_type": "stream",
     "name": "stderr",
     "text": [
      "100%|██████████| 12/12 [04:15<00:00, 21.25s/it]\n"
     ]
    },
    {
     "output_type": "stream",
     "name": "stdout",
     "text": [
      "time: 4min 35s (started: 2021-09-07 14:25:34 +02:00)\n"
     ]
    }
   ],
   "metadata": {}
  },
  {
   "cell_type": "code",
   "execution_count": 9,
   "source": [
    "reload(vis)\n",
    "\n",
    "x_test = test.drop([\"label\"], axis=\"columns\")\n",
    "y_test = test[\"label\"]\n",
    "pred = clf.predict(x_test)\n",
    "\n",
    "print(vis.accuracy(y_test, pred, True))"
   ],
   "outputs": [
    {
     "output_type": "stream",
     "name": "stdout",
     "text": [
      "Correct: 146944\n",
      "Incorrect: 9\n",
      "0.9999387559287664\n",
      "time: 859 ms (started: 2021-09-07 12:20:36 +02:00)\n"
     ]
    }
   ],
   "metadata": {}
  },
  {
   "cell_type": "code",
   "execution_count": null,
   "source": [],
   "outputs": [],
   "metadata": {}
  }
 ],
 "metadata": {
  "interpreter": {
   "hash": "8e78fa2f22faf121b949adbe0df6324d13954c705daac14fb9ebebb6d9fbcb40"
  },
  "kernelspec": {
   "name": "python3",
   "display_name": "Python 3.8.2 64-bit ('xenv': conda)"
  },
  "language_info": {
   "codemirror_mode": {
    "name": "ipython",
    "version": 3
   },
   "file_extension": ".py",
   "mimetype": "text/x-python",
   "name": "python",
   "nbconvert_exporter": "python",
   "pygments_lexer": "ipython3",
   "version": "3.8.2"
  }
 },
 "nbformat": 4,
 "nbformat_minor": 5
}